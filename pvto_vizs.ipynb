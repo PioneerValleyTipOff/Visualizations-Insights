{
  "nbformat": 4,
  "nbformat_minor": 0,
  "metadata": {
    "colab": {
      "provenance": []
    },
    "kernelspec": {
      "name": "python3",
      "display_name": "Python 3"
    },
    "language_info": {
      "name": "python"
    }
  },
  "cells": [
    {
      "cell_type": "code",
      "execution_count": null,
      "metadata": {
        "id": "EsotMU65nSQH"
      },
      "outputs": [],
      "source": [
        "import pandas as pd\n",
        "import matplotlib.pyplot as plt\n",
        "import numpy as np\n",
        "import matplotlib as mp\n",
        "from google.colab import drive\n",
        "drive.mount('/content/drive')"
      ]
    },
    {
      "cell_type": "code",
      "source": [
        "path = '/content/drive/MyDrive/2022 PVTO Data Analytics Team/PVTOData.xlsx'\n",
        "\n",
        "teamData = pd.read_excel(path,'TeamData')\n",
        "playerData = pd.read_excel(path,'PlayerData')"
      ],
      "metadata": {
        "id": "ntXCZJxgtm9d"
      },
      "execution_count": null,
      "outputs": []
    },
    {
      "cell_type": "code",
      "source": [
        "# Adding new measures in the data that can be visualised below \n",
        "teamData['%2pm'] = (teamData['Fgm']-teamData['3fgm'])/(teamData['Fga']-teamData['3fga'])\n",
        "teamData['%3pm'] = teamData['3fgm']/teamData['3fga']"
      ],
      "metadata": {
        "id": "8brU5siQUR-l"
      },
      "execution_count": null,
      "outputs": []
    },
    {
      "cell_type": "markdown",
      "source": [
        "This scatterplot calculates the 2 point field percentage and 3 point field goal percentage for each team as a whole and then displays those results relative to the other teams. We see that the higher the team's data point is on the plot, the greater their 3 point field goal percentage and the more to the right the team's data point is on the plot, the greater their 2 point field goal percentage.\n",
        "\n",
        "The teams in the bottom and top 10 percentile of each category are labeled in the scatterplot.\n",
        "\n",
        "Those in the top 10 percentile (Chic. Comp B and Putnam B) both won their games which may have been due to their higher shooting percentages.\n",
        "\n",
        "Those in the bottom 10 percentile, except Chicopee G, (Mahar G, Northampton G, Granby G) all lost their games which may have been due to thier lower shooting percentages. However, despite being in the bottom 10th percentile, Chicopee G actually won their game. This data point is clearly an outlier."
      ],
      "metadata": {
        "id": "oTpzZu4BzsKu"
      }
    },
    {
      "cell_type": "code",
      "source": [
        "# Scatterplot with basic parameter settings\n",
        "\n",
        "plt.scatter(teamData['%2pm'],teamData['%3pm'], s=20, color='Red',zorder=1)\n",
        "plt.rcParams[\"figure.figsize\"] = (12,10)\n",
        "plt.rcParams[\"figure.facecolor\"] = \"#f8e9d9\"\n",
        "# plt.rcParams[\"font.family\"] = \"serif\"\n",
        "\n",
        "plt.xlabel(\"%2-points-made\",fontsize=16, color='#1e7cba', fontweight=\"bold\", fontname='monospace')\n",
        "plt.ylabel(\"%3-points-made\",fontsize=16, color='#1eba55', fontweight=\"bold\", fontname='monospace')\n",
        "plt.title(\"% 2 points made vs % 3 points made for all Teams\", color='#682222', fontsize=18, fontweight=\"bold\", pad=10, fontname='monospace')\n",
        "\n",
        "# fontname='fantasy'\n",
        "#701d35\n",
        "\n",
        "plt.grid(visible=True,linestyle='--')\n",
        "\n",
        "# plt.xlim([0, 1])\n",
        "# plt.ylim([0, 1])\n",
        "\n",
        "# Re-positioning the origin in the center of the plot\n",
        "ax = plt.gca()\n",
        "ax.spines['left'].set_position('center')\n",
        "ax.spines['bottom'].set_position('center')\n",
        "ax.set_facecolor(\"#f8e9d9\")\n",
        "ax.spines['right'].set_color('none')\n",
        "ax.spines['top'].set_color('none')\n",
        "\n",
        "# Re-positioning axis labels  \n",
        "xcenter = np.average(teamData['%2pm'])\n",
        "ycenter = np.average(teamData['%3pm'])\n",
        "xmax = np.max(teamData['%2pm'])\n",
        "ymax = np.max(teamData['%3pm'])\n",
        "ax.xaxis.set_label_coords(0.15,0)\n",
        "ax.yaxis.set_label_coords(0,0.20)\n",
        "\n",
        "# Labelling each data point (higher than 90%ile and lower than 90%ile) in the plot with corresponding team-name\n",
        "annotations=teamData['Name']\n",
        "xHighOutlier = np.percentile(teamData['%2pm'],90)\n",
        "xLowOutlier = np.percentile(teamData['%2pm'],10)\n",
        "\n",
        "yHighOutlier = np.percentile(teamData['%3pm'],90)\n",
        "yLowOutlier = np.percentile(teamData['%3pm'],10)\n",
        "\n",
        "for i, label in enumerate(annotations):\n",
        "  if (teamData['%2pm'][i] > xHighOutlier or teamData['%2pm'][i] < xLowOutlier) or ((teamData['%3pm'][i] > yHighOutlier or teamData['%3pm'][i] < yLowOutlier)): \n",
        "    plt.annotate(label, (teamData['%2pm'][i], teamData['%3pm'][i]), alpha=0.8)\n",
        "\n",
        "# Adding a watermark with PVTO logo\n",
        "# img = plt.imread(\"https://static.wixstatic.com/media/20df3c_80c98e6f59454949878bc459d553c952~mv2.png/v1/crop/x_0,y_110,w_1080,h_865/fill/w_330,h_264,al_c,q_85,usm_0.66_1.00_0.01,enc_auto/Logo%20%231.png\")\n",
        "# plt.imshow(img,zorder=0,extent=[0, xmax*1.2, 0, ymax*1.1],alpha=0.1)\n",
        "\n",
        "\n",
        "plt.show()"
      ],
      "metadata": {
        "id": "WDTuY4bGvbgv"
      },
      "execution_count": null,
      "outputs": []
    },
    {
      "cell_type": "markdown",
      "source": [
        "This series of bar charts calculates the 2 point field percentage, 3 point field goal percentage and overall field goal percentage respectively for each player on each team. It then displays those results in a bar chart relative to one's teammates. \n",
        "\n",
        "Users also have the option of only plotting certain bar charts (i.e. only 2 point fgp or only 3 and 2 point fgp) by passing the respective parameter into the plotting function ('2', '3', 'all')\n",
        "\n",
        "We can compare these results with the overall team shooting percentages plotted above to see if which of those on a certain team may have had a higher or lower fgp than the overall team fgp.\n",
        "\n",
        "We can also compare an individuals shooting percentage with themselves. For example, we can see if a certain player has a higher 3 point fgp or 2 point fgp and by how much etc."
      ],
      "metadata": {
        "id": "ToFsHdR5y4eH"
      }
    },
    {
      "cell_type": "code",
      "source": [
        "#function to plot a team's player's field goal percentages, either 2 point shots, 3 point shots, or all shots\n",
        "def plot_team_fgp(team: str, type: str):\n",
        "  #extract team\n",
        "  playerDatagg = playerData[playerData['Team'] == team]\n",
        "  #calculate fgp\n",
        "  if type == 'all':\n",
        "    ggfgp = (playerDatagg['Fgm'] + playerDatagg['3fgm'])/(playerDatagg['Fga'] + playerDatagg['3fga'])\n",
        "    title = 'Field Goal Percentage for ' + team\n",
        "    ylabel = 'Field Goal Percentage'\n",
        "  elif type == '2':\n",
        "    ggfgp = playerDatagg['Fgm']/playerDatagg['Fga']\n",
        "    title = '2 Point Field Goal Percentage for ' + team\n",
        "    ylabel = '2 Point Field Goal Percentage'\n",
        "  elif type == '3':\n",
        "    ggfgp = playerDatagg['3fgm']/playerDatagg['3fga']\n",
        "    title = '3 Point Field Goal Percentage for ' + team\n",
        "    ylabel = '3 Point Field Goal Percentage'\n",
        "  else:\n",
        "    print('Enter a valid field goal type')\n",
        "    return None\n",
        "  #players\n",
        "  playerNames = playerDatagg['Name']\n",
        "  \n",
        "  #create bar chart, x=players and y=fgp\n",
        "  plt.bar(playerNames, ggfgp)\n",
        "  plt.title(title)\n",
        "  plt.xlabel('Players')\n",
        "  plt.ylabel(ylabel)\n",
        "  plt.ylim(0, 1)\n",
        "  plt.grid(True, alpha=0.5)\n",
        "  major_ticks = np.arange(0, 1.1, 0.1)\n",
        "  plt.yticks(major_ticks)\n",
        "  plt.xticks(rotation=90, ha='center')\n",
        "  plt.show()"
      ],
      "metadata": {
        "id": "XjshDa1Hy-R4"
      },
      "execution_count": null,
      "outputs": []
    },
    {
      "cell_type": "code",
      "source": [
        "#function to plot all team's player's field goal percentages\n",
        "def plot_all(team: str):\n",
        "  teams = teamData['Name']\n",
        "  if team == 'all':\n",
        "    for t in teams:\n",
        "      plot_team_fgp(t, '2')\n",
        "      plot_team_fgp(t, '3')\n",
        "      plot_team_fgp(t, 'all')\n",
        "  else:\n",
        "    for t in teams:\n",
        "      if t == team:\n",
        "        plot_team_fgp(t, '2')\n",
        "        plot_team_fgp(t, '3')\n",
        "        plot_team_fgp(t, 'all')"
      ],
      "metadata": {
        "id": "NWX_ZHdm94uv"
      },
      "execution_count": null,
      "outputs": []
    },
    {
      "cell_type": "code",
      "source": [
        "teams = teamData['Name']\n",
        "print('| ', end='')\n",
        "for team in teams:\n",
        "  print(team, end=' | ')\n",
        "\n",
        "tteam = input('Enter a specific team to plot data for or \\\"all\\\" for all teams (Case & Space Sensitive): ')\n",
        "plot_all(tteam)"
      ],
      "metadata": {
        "id": "4e0puXY_ndEB"
      },
      "execution_count": null,
      "outputs": []
    },
    {
      "cell_type": "markdown",
      "source": [
        "This scatterplot calculates the effective field goal percentage and shot attempts for each team as a whole and then displays those results relative to the other teams. We see that the higher the team's data point is on the plot, the greater their effective field goal percentage and the more to the right the team's data point is on the plot, the greater their field goal atttempts.\n",
        "\n",
        "The teams in the bottom and top 10 percentile of each category are labeled in the scatterplot.\n",
        "\n",
        "Those in the top 10 percentile of efg% (Chic. Comp B and Putnam B) both won their games which may have been due to their higher shooting percentages while those in the bottom 10 percentile of efg% (Mahar G and Northampton G) both lost their games which may have been due to their lower shooting percentages\n",
        "\n",
        "For the shot attempts, it is a more difficult to deduce a pattern as shot attempts alone do not have as much an impact as efg%. However, if there all several teams with the same efg%, then those with more field goal attempts will surely score more points. As a result, those in the top 10 percentile of field goal attempts (Chicopee G and Frontier G) both won their games which may have been due to the factors described. However, even Amherst G, which was in the bottom 10 percentile of field goal attempts won their game. This may be due to the fact that their opponent, Northampton G, was in the bottom 10 percentile of efg% more than the fact that their field goal attempts were low."
      ],
      "metadata": {
        "id": "3Sc6bXZWUFXr"
      }
    },
    {
      "cell_type": "code",
      "source": [
        "x = teamData['Fga']\n",
        "y = teamData['Efg%']\n",
        "plt.scatter(x,y, s=20, color='Red',zorder=1)\n",
        "plt.rcParams[\"figure.figsize\"] = (12,10)\n",
        "plt.rcParams[\"figure.facecolor\"] = \"#f8e9d9\"\n",
        "# plt.rcParams[\"font.family\"] = \"serif\"\n",
        "\n",
        "plt.xlabel(\"# Field goals attempted\",fontsize=16, color='#1e7cba', fontweight=\"bold\", fontname='monospace')\n",
        "plt.ylabel(\"Effective field goal %\",fontsize=16, color='#1eba55', fontweight=\"bold\", fontname='monospace')\n",
        "plt.title(\"Field goals attempted vs Effective field goal % for all Teams\", color='#682222', fontsize=18, fontweight=\"bold\", pad=10, fontname='monospace')\n",
        "\n",
        "\n",
        "plt.grid(visible=True,linestyle='--')\n",
        "\n",
        "# Re-positioning the origin in the center of the plot\n",
        "ax = plt.gca()\n",
        "ax.set_facecolor(\"#f8e9d9\")\n",
        "# ax.spines['left'].set_position('center')\n",
        "# ax.spines['bottom'].set_position('center')\n",
        "# ax.spines['right'].set_color('none')\n",
        "# ax.spines['top'].set_color('none')\n",
        "# Labelling each data point (higher than 90%ile and lower than 90%ile) in the plot with corresponding team-name\n",
        "annotations = teamData['Name']\n",
        "xHighOutlier = np.percentile(x,90)\n",
        "xLowOutlier = np.percentile(x,10)\n",
        "\n",
        "yHighOutlier = np.percentile(y,90)\n",
        "yLowOutlier = np.percentile(y,10)\n",
        "\n",
        "for i, label in enumerate(annotations):\n",
        "  if (x[i] > xHighOutlier or x[i] < xLowOutlier) or ((y[i] > yHighOutlier or y[i] < yLowOutlier)): \n",
        "    plt.annotate(label, (x[i], y[i]), alpha=0.8)\n",
        "\n",
        "\n",
        "# Adding a watermark with PVTO logo\n",
        "xcenter = np.average(x)\n",
        "ycenter = np.average(y)\n",
        "xmax = np.max(x)\n",
        "ymax = np.max(y)\n",
        "\n",
        "img = plt.imread(\"https://static.wixstatic.com/media/20df3c_80c98e6f59454949878bc459d553c952~mv2.png/v1/crop/x_0,y_110,w_1080,h_865/fill/w_330,h_264,al_c,q_85,usm_0.66_1.00_0.01,enc_auto/Logo%20%231.png\")\n",
        "# plt.imshow(img,zorder=0,extent=[0, xmax*1.2, 0, ymax*1.1],alpha=0.1)\n",
        "\n",
        "\n",
        "plt.show()\n"
      ],
      "metadata": {
        "id": "FIrUollcV9OW"
      },
      "execution_count": null,
      "outputs": []
    },
    {
      "cell_type": "markdown",
      "source": [
        "The following methods calculate and display the assist to turnover ratio for all players in the PVTO event that played at least a certain number of minutes. The amount of minutes used is user specified.\n",
        "\n",
        "The taller the bar for a specific player, the greater their assist to turnover ratio and the shorter the bar, the smaller their assist to turnover ratio. A player's assist to turnover ratio can serve as a preliminary indicator of ball control. A player who creates more assists (passes that make a point) and fewer turnovers (the number of times they lose the ball) has a greater ratio and thus may have better ball control wheras a player who has less assists and more turnovers has a smaller ratio and thus may have worse ball control.\n",
        "\n",
        "However, a player who scores a lot may have a low number of assists (points scored do not affect the ratio). They would also have a higher number of turnovers (they may also take the ball closer to the net). This player would have a lower ratio than a player who focuses on assists. In turn, this ratio can not be used solely as a measure of a player's ball control or thier abilities as a basketball player."
      ],
      "metadata": {
        "id": "C6ReXWdf2g3j"
      }
    },
    {
      "cell_type": "code",
      "source": [
        "#function to plot player's assist to turnover ratio\n",
        "def plot_ratio(mins: str):\n",
        "  #extract players with equal or more playing time\n",
        "  playerdata = playerData[playerData['Min'] >= float(mins)]\n",
        "  #calculate ast/to ratio\n",
        "  astto = playerdata['Ast']/playerdata['To']\n",
        "  #players\n",
        "  playerNames = playerdata['Name']\n",
        "\n",
        "  #create bar chart, x=players and y=ratio\n",
        "  plt.bar(playerNames, astto)\n",
        "  plt.title('Assist to Turnover Ratio for players with ' + mins + ' minutes or more of playing time')\n",
        "  plt.xlabel('Players')\n",
        "  plt.ylabel('Assist to Turnover Ratio')\n",
        "  plt.ylim(0, 6)\n",
        "  plt.grid(True, alpha=0.5)\n",
        "  major_ticks = np.arange(0, 7, 1)\n",
        "  plt.yticks(major_ticks)\n",
        "  plt.xticks(rotation=90, ha='center')\n",
        "  plt.rcParams[\"figure.figsize\"] = [15, 8]\n",
        "  #plt.rcParams[\"figure.autolayout\"] = True\n",
        "  fig = plt.figure()\n",
        "  spacing = 0.05\n",
        "  fig.subplots_adjust(bottom=spacing)\n",
        "  plt.show()"
      ],
      "metadata": {
        "id": "ZFdwwrG91aEM"
      },
      "execution_count": null,
      "outputs": []
    },
    {
      "cell_type": "code",
      "source": [
        "time = input('Plot assist to turnover ratio for all players who have played at least how many minutes? ').strip()\n",
        "plot_ratio(time)"
      ],
      "metadata": {
        "id": "Ubmeupgu2mBq"
      },
      "execution_count": null,
      "outputs": []
    },
    {
      "cell_type": "markdown",
      "source": [
        "This scatterplot calculates the Offensive rebound percentage and Defensive rebound percentage for each team as a whole and then displays those results relative to the other teams. \n",
        "\n",
        "The teams in the bottom and top 10 percentile of each category are labeled in the scatterplot.\n",
        "\n",
        "The size and color of the bubbles in the plot are determined by the total number of points scored by the team. \n",
        "\n",
        "From the plot, we can infer that, teams with higher DREB% are successful at winning possession from a missed basket and then eventually scoring points on the other end. As a result, we can see that the top 3 scorers in the competition namely Easthampton B, Putnam B and Chicopee G also have very high DREB%."
      ],
      "metadata": {
        "id": "DtFuhhROmI5q"
      }
    },
    {
      "cell_type": "code",
      "source": [
        "x = teamData['RebO%']\n",
        "y = teamData['RebD%']\n",
        "points = teamData['Points']\n",
        "maxPoints = np.max(points)\n",
        "# c_points = sorted(points)\n",
        "\n",
        "plt.scatter(x,y, s = (points/maxPoints)*2000, zorder=1, alpha=0.6, c = points, cmap=\"RdYlGn\")\n",
        "plt.rcParams[\"figure.figsize\"] = (12,10)\n",
        "plt.rcParams[\"figure.facecolor\"] = \"#f8e9d9\"\n",
        "\n",
        "plt.xlabel(\"Offensive Rebound %\",fontsize=16, color='#1e7cba', fontweight=\"bold\", fontname='monospace')\n",
        "plt.ylabel(\"Defensive Rebound %\",fontsize=16, color='#1eba55', fontweight=\"bold\", fontname='monospace')\n",
        "plt.title(\"Offensive Rebound % vs Defensive Rebound % for all Teams\", color='#682222', fontsize=18, fontweight=\"bold\", pad=10, fontname='monospace')\n",
        "plt.grid(visible=True,linestyle='--')\n",
        "\n",
        "# Re-positioning the origin in the center of the plot\n",
        "ax = plt.gca()\n",
        "ax.set_facecolor(\"#f8e9d9\")\n",
        "# ax.spines['left'].set_position('center')\n",
        "# ax.spines['bottom'].set_position('center')\n",
        "# ax.spines['right'].set_color('none')\n",
        "# ax.spines['top'].set_color('none')\n",
        "\n",
        "# # Re-positioning axis labels  \n",
        "# xcenter = np.average(x)\n",
        "# ycenter = np.average(y)\n",
        "# xmax = np.max(x)\n",
        "# ymax = np.max(y)\n",
        "# ax.xaxis.set_label_coords(0.15,0)\n",
        "# ax.yaxis.set_label_coords(0,0.20)\n",
        "\n",
        "\n",
        "# Labelling each data point (higher than 90%ile and lower than 90%ile) in the plot with corresponding team-name\n",
        "annotations = teamData['Name']\n",
        "xHighOutlier = np.percentile(x,90)\n",
        "xLowOutlier = np.percentile(x,10)\n",
        "\n",
        "yHighOutlier = np.percentile(y,90)\n",
        "yLowOutlier = np.percentile(y,10)\n",
        "\n",
        "for i, label in enumerate(annotations):\n",
        "  if (x[i] > xHighOutlier or x[i] < xLowOutlier) or ((y[i] > yHighOutlier or y[i] < yLowOutlier)): \n",
        "    plt.annotate(label, (x[i], y[i]), alpha=0.8)\n",
        "\n",
        "plt.show()"
      ],
      "metadata": {
        "id": "_CudZYsvkY_4"
      },
      "execution_count": null,
      "outputs": []
    }
  ]
}